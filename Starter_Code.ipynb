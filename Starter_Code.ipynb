{
 "cells": [
  {
   "cell_type": "markdown",
   "metadata": {},
   "source": [
    "## Preprocessing"
   ]
  },
  {
   "cell_type": "code",
   "execution_count": 2,
   "metadata": {},
   "outputs": [
    {
     "name": "stdout",
     "output_type": "stream",
     "text": [
      "Requirement already satisfied: tensorflow in /Users/sukhikaur/anaconda3/envs/dev/lib/python3.10/site-packages (2.15.0)\n",
      "Requirement already satisfied: absl-py>=1.0.0 in /Users/sukhikaur/anaconda3/envs/dev/lib/python3.10/site-packages (from tensorflow) (2.0.0)\n",
      "Requirement already satisfied: astunparse>=1.6.0 in /Users/sukhikaur/anaconda3/envs/dev/lib/python3.10/site-packages (from tensorflow) (1.6.3)\n",
      "Requirement already satisfied: flatbuffers>=23.5.26 in /Users/sukhikaur/anaconda3/envs/dev/lib/python3.10/site-packages (from tensorflow) (23.5.26)\n",
      "Requirement already satisfied: gast!=0.5.0,!=0.5.1,!=0.5.2,>=0.2.1 in /Users/sukhikaur/anaconda3/envs/dev/lib/python3.10/site-packages (from tensorflow) (0.5.4)\n",
      "Requirement already satisfied: google-pasta>=0.1.1 in /Users/sukhikaur/anaconda3/envs/dev/lib/python3.10/site-packages (from tensorflow) (0.2.0)\n",
      "Requirement already satisfied: h5py>=2.9.0 in /Users/sukhikaur/anaconda3/envs/dev/lib/python3.10/site-packages (from tensorflow) (3.7.0)\n",
      "Requirement already satisfied: libclang>=13.0.0 in /Users/sukhikaur/anaconda3/envs/dev/lib/python3.10/site-packages (from tensorflow) (16.0.6)\n",
      "Requirement already satisfied: ml-dtypes~=0.2.0 in /Users/sukhikaur/anaconda3/envs/dev/lib/python3.10/site-packages (from tensorflow) (0.2.0)\n",
      "Requirement already satisfied: numpy<2.0.0,>=1.23.5 in /Users/sukhikaur/anaconda3/envs/dev/lib/python3.10/site-packages (from tensorflow) (1.24.3)\n",
      "Requirement already satisfied: opt-einsum>=2.3.2 in /Users/sukhikaur/anaconda3/envs/dev/lib/python3.10/site-packages (from tensorflow) (3.3.0)\n",
      "Requirement already satisfied: packaging in /Users/sukhikaur/anaconda3/envs/dev/lib/python3.10/site-packages (from tensorflow) (23.0)\n",
      "Requirement already satisfied: protobuf!=4.21.0,!=4.21.1,!=4.21.2,!=4.21.3,!=4.21.4,!=4.21.5,<5.0.0dev,>=3.20.3 in /Users/sukhikaur/anaconda3/envs/dev/lib/python3.10/site-packages (from tensorflow) (4.23.4)\n",
      "Requirement already satisfied: setuptools in /Users/sukhikaur/anaconda3/envs/dev/lib/python3.10/site-packages (from tensorflow) (67.8.0)\n",
      "Requirement already satisfied: six>=1.12.0 in /Users/sukhikaur/anaconda3/envs/dev/lib/python3.10/site-packages (from tensorflow) (1.16.0)\n",
      "Requirement already satisfied: termcolor>=1.1.0 in /Users/sukhikaur/anaconda3/envs/dev/lib/python3.10/site-packages (from tensorflow) (2.4.0)\n",
      "Requirement already satisfied: typing-extensions>=3.6.6 in /Users/sukhikaur/anaconda3/envs/dev/lib/python3.10/site-packages (from tensorflow) (4.6.3)\n",
      "Requirement already satisfied: wrapt<1.15,>=1.11.0 in /Users/sukhikaur/anaconda3/envs/dev/lib/python3.10/site-packages (from tensorflow) (1.14.1)\n",
      "Requirement already satisfied: tensorflow-io-gcs-filesystem>=0.23.1 in /Users/sukhikaur/anaconda3/envs/dev/lib/python3.10/site-packages (from tensorflow) (0.34.0)\n",
      "Requirement already satisfied: grpcio<2.0,>=1.24.3 in /Users/sukhikaur/anaconda3/envs/dev/lib/python3.10/site-packages (from tensorflow) (1.60.0)\n",
      "Requirement already satisfied: tensorboard<2.16,>=2.15 in /Users/sukhikaur/anaconda3/envs/dev/lib/python3.10/site-packages (from tensorflow) (2.15.1)\n",
      "Requirement already satisfied: tensorflow-estimator<2.16,>=2.15.0 in /Users/sukhikaur/anaconda3/envs/dev/lib/python3.10/site-packages (from tensorflow) (2.15.0)\n",
      "Requirement already satisfied: keras<2.16,>=2.15.0 in /Users/sukhikaur/anaconda3/envs/dev/lib/python3.10/site-packages (from tensorflow) (2.15.0)\n",
      "Requirement already satisfied: wheel<1.0,>=0.23.0 in /Users/sukhikaur/anaconda3/envs/dev/lib/python3.10/site-packages (from astunparse>=1.6.0->tensorflow) (0.38.4)\n",
      "Requirement already satisfied: google-auth<3,>=1.6.3 in /Users/sukhikaur/anaconda3/envs/dev/lib/python3.10/site-packages (from tensorboard<2.16,>=2.15->tensorflow) (2.25.1)\n",
      "Requirement already satisfied: google-auth-oauthlib<2,>=0.5 in /Users/sukhikaur/anaconda3/envs/dev/lib/python3.10/site-packages (from tensorboard<2.16,>=2.15->tensorflow) (1.1.0)\n",
      "Requirement already satisfied: markdown>=2.6.8 in /Users/sukhikaur/anaconda3/envs/dev/lib/python3.10/site-packages (from tensorboard<2.16,>=2.15->tensorflow) (3.4.1)\n",
      "Requirement already satisfied: requests<3,>=2.21.0 in /Users/sukhikaur/anaconda3/envs/dev/lib/python3.10/site-packages (from tensorboard<2.16,>=2.15->tensorflow) (2.29.0)\n",
      "Requirement already satisfied: tensorboard-data-server<0.8.0,>=0.7.0 in /Users/sukhikaur/anaconda3/envs/dev/lib/python3.10/site-packages (from tensorboard<2.16,>=2.15->tensorflow) (0.7.2)\n",
      "Requirement already satisfied: werkzeug>=1.0.1 in /Users/sukhikaur/anaconda3/envs/dev/lib/python3.10/site-packages (from tensorboard<2.16,>=2.15->tensorflow) (2.2.3)\n",
      "Requirement already satisfied: cachetools<6.0,>=2.0.0 in /Users/sukhikaur/anaconda3/envs/dev/lib/python3.10/site-packages (from google-auth<3,>=1.6.3->tensorboard<2.16,>=2.15->tensorflow) (5.3.2)\n",
      "Requirement already satisfied: pyasn1-modules>=0.2.1 in /Users/sukhikaur/anaconda3/envs/dev/lib/python3.10/site-packages (from google-auth<3,>=1.6.3->tensorboard<2.16,>=2.15->tensorflow) (0.2.8)\n",
      "Requirement already satisfied: rsa<5,>=3.1.4 in /Users/sukhikaur/anaconda3/envs/dev/lib/python3.10/site-packages (from google-auth<3,>=1.6.3->tensorboard<2.16,>=2.15->tensorflow) (4.9)\n",
      "Requirement already satisfied: requests-oauthlib>=0.7.0 in /Users/sukhikaur/anaconda3/envs/dev/lib/python3.10/site-packages (from google-auth-oauthlib<2,>=0.5->tensorboard<2.16,>=2.15->tensorflow) (1.3.1)\n",
      "Requirement already satisfied: charset-normalizer<4,>=2 in /Users/sukhikaur/anaconda3/envs/dev/lib/python3.10/site-packages (from requests<3,>=2.21.0->tensorboard<2.16,>=2.15->tensorflow) (2.0.4)\n",
      "Requirement already satisfied: idna<4,>=2.5 in /Users/sukhikaur/anaconda3/envs/dev/lib/python3.10/site-packages (from requests<3,>=2.21.0->tensorboard<2.16,>=2.15->tensorflow) (3.4)\n",
      "Requirement already satisfied: urllib3<1.27,>=1.21.1 in /Users/sukhikaur/anaconda3/envs/dev/lib/python3.10/site-packages (from requests<3,>=2.21.0->tensorboard<2.16,>=2.15->tensorflow) (1.26.16)\n",
      "Requirement already satisfied: certifi>=2017.4.17 in /Users/sukhikaur/anaconda3/envs/dev/lib/python3.10/site-packages (from requests<3,>=2.21.0->tensorboard<2.16,>=2.15->tensorflow) (2023.7.22)\n",
      "Requirement already satisfied: MarkupSafe>=2.1.1 in /Users/sukhikaur/anaconda3/envs/dev/lib/python3.10/site-packages (from werkzeug>=1.0.1->tensorboard<2.16,>=2.15->tensorflow) (2.1.1)\n",
      "Requirement already satisfied: pyasn1<0.5.0,>=0.4.6 in /Users/sukhikaur/anaconda3/envs/dev/lib/python3.10/site-packages (from pyasn1-modules>=0.2.1->google-auth<3,>=1.6.3->tensorboard<2.16,>=2.15->tensorflow) (0.4.8)\n",
      "Requirement already satisfied: oauthlib>=3.0.0 in /Users/sukhikaur/anaconda3/envs/dev/lib/python3.10/site-packages (from requests-oauthlib>=0.7.0->google-auth-oauthlib<2,>=0.5->tensorboard<2.16,>=2.15->tensorflow) (3.2.2)\n",
      "Note: you may need to restart the kernel to use updated packages.\n"
     ]
    }
   ],
   "source": [
    "pip install tensorflow"
   ]
  },
  {
   "cell_type": "code",
   "execution_count": 3,
   "metadata": {},
   "outputs": [
    {
     "name": "stderr",
     "output_type": "stream",
     "text": [
      "2023-12-08 14:25:56.288775: I tensorflow/core/platform/cpu_feature_guard.cc:182] This TensorFlow binary is optimized to use available CPU instructions in performance-critical operations.\n",
      "To enable the following instructions: AVX2 FMA, in other operations, rebuild TensorFlow with the appropriate compiler flags.\n"
     ]
    },
    {
     "data": {
      "text/html": [
       "<div>\n",
       "<style scoped>\n",
       "    .dataframe tbody tr th:only-of-type {\n",
       "        vertical-align: middle;\n",
       "    }\n",
       "\n",
       "    .dataframe tbody tr th {\n",
       "        vertical-align: top;\n",
       "    }\n",
       "\n",
       "    .dataframe thead th {\n",
       "        text-align: right;\n",
       "    }\n",
       "</style>\n",
       "<table border=\"1\" class=\"dataframe\">\n",
       "  <thead>\n",
       "    <tr style=\"text-align: right;\">\n",
       "      <th></th>\n",
       "      <th>EIN</th>\n",
       "      <th>NAME</th>\n",
       "      <th>APPLICATION_TYPE</th>\n",
       "      <th>AFFILIATION</th>\n",
       "      <th>CLASSIFICATION</th>\n",
       "      <th>USE_CASE</th>\n",
       "      <th>ORGANIZATION</th>\n",
       "      <th>STATUS</th>\n",
       "      <th>INCOME_AMT</th>\n",
       "      <th>SPECIAL_CONSIDERATIONS</th>\n",
       "      <th>ASK_AMT</th>\n",
       "      <th>IS_SUCCESSFUL</th>\n",
       "    </tr>\n",
       "  </thead>\n",
       "  <tbody>\n",
       "    <tr>\n",
       "      <th>0</th>\n",
       "      <td>10520599</td>\n",
       "      <td>BLUE KNIGHTS MOTORCYCLE CLUB</td>\n",
       "      <td>T10</td>\n",
       "      <td>Independent</td>\n",
       "      <td>C1000</td>\n",
       "      <td>ProductDev</td>\n",
       "      <td>Association</td>\n",
       "      <td>1</td>\n",
       "      <td>0</td>\n",
       "      <td>N</td>\n",
       "      <td>5000</td>\n",
       "      <td>1</td>\n",
       "    </tr>\n",
       "    <tr>\n",
       "      <th>1</th>\n",
       "      <td>10531628</td>\n",
       "      <td>AMERICAN CHESAPEAKE CLUB CHARITABLE TR</td>\n",
       "      <td>T3</td>\n",
       "      <td>Independent</td>\n",
       "      <td>C2000</td>\n",
       "      <td>Preservation</td>\n",
       "      <td>Co-operative</td>\n",
       "      <td>1</td>\n",
       "      <td>1-9999</td>\n",
       "      <td>N</td>\n",
       "      <td>108590</td>\n",
       "      <td>1</td>\n",
       "    </tr>\n",
       "    <tr>\n",
       "      <th>2</th>\n",
       "      <td>10547893</td>\n",
       "      <td>ST CLOUD PROFESSIONAL FIREFIGHTERS</td>\n",
       "      <td>T5</td>\n",
       "      <td>CompanySponsored</td>\n",
       "      <td>C3000</td>\n",
       "      <td>ProductDev</td>\n",
       "      <td>Association</td>\n",
       "      <td>1</td>\n",
       "      <td>0</td>\n",
       "      <td>N</td>\n",
       "      <td>5000</td>\n",
       "      <td>0</td>\n",
       "    </tr>\n",
       "    <tr>\n",
       "      <th>3</th>\n",
       "      <td>10553066</td>\n",
       "      <td>SOUTHSIDE ATHLETIC ASSOCIATION</td>\n",
       "      <td>T3</td>\n",
       "      <td>CompanySponsored</td>\n",
       "      <td>C2000</td>\n",
       "      <td>Preservation</td>\n",
       "      <td>Trust</td>\n",
       "      <td>1</td>\n",
       "      <td>10000-24999</td>\n",
       "      <td>N</td>\n",
       "      <td>6692</td>\n",
       "      <td>1</td>\n",
       "    </tr>\n",
       "    <tr>\n",
       "      <th>4</th>\n",
       "      <td>10556103</td>\n",
       "      <td>GENETIC RESEARCH INSTITUTE OF THE DESERT</td>\n",
       "      <td>T3</td>\n",
       "      <td>Independent</td>\n",
       "      <td>C1000</td>\n",
       "      <td>Heathcare</td>\n",
       "      <td>Trust</td>\n",
       "      <td>1</td>\n",
       "      <td>100000-499999</td>\n",
       "      <td>N</td>\n",
       "      <td>142590</td>\n",
       "      <td>1</td>\n",
       "    </tr>\n",
       "  </tbody>\n",
       "</table>\n",
       "</div>"
      ],
      "text/plain": [
       "        EIN                                      NAME APPLICATION_TYPE  \\\n",
       "0  10520599              BLUE KNIGHTS MOTORCYCLE CLUB              T10   \n",
       "1  10531628    AMERICAN CHESAPEAKE CLUB CHARITABLE TR               T3   \n",
       "2  10547893        ST CLOUD PROFESSIONAL FIREFIGHTERS               T5   \n",
       "3  10553066            SOUTHSIDE ATHLETIC ASSOCIATION               T3   \n",
       "4  10556103  GENETIC RESEARCH INSTITUTE OF THE DESERT               T3   \n",
       "\n",
       "        AFFILIATION CLASSIFICATION      USE_CASE  ORGANIZATION  STATUS  \\\n",
       "0       Independent          C1000    ProductDev   Association       1   \n",
       "1       Independent          C2000  Preservation  Co-operative       1   \n",
       "2  CompanySponsored          C3000    ProductDev   Association       1   \n",
       "3  CompanySponsored          C2000  Preservation         Trust       1   \n",
       "4       Independent          C1000     Heathcare         Trust       1   \n",
       "\n",
       "      INCOME_AMT SPECIAL_CONSIDERATIONS  ASK_AMT  IS_SUCCESSFUL  \n",
       "0              0                      N     5000              1  \n",
       "1         1-9999                      N   108590              1  \n",
       "2              0                      N     5000              0  \n",
       "3    10000-24999                      N     6692              1  \n",
       "4  100000-499999                      N   142590              1  "
      ]
     },
     "execution_count": 3,
     "metadata": {},
     "output_type": "execute_result"
    }
   ],
   "source": [
    "# Import our dependencies\n",
    "from sklearn.model_selection import train_test_split\n",
    "from sklearn.preprocessing import StandardScaler\n",
    "import pandas as pd\n",
    "import tensorflow as tf\n",
    "\n",
    "#  Import and read the charity_data.csv.\n",
    "import pandas as pd \n",
    "application_df = pd.read_csv(\"https://static.bc-edx.com/data/dl-1-2/m21/lms/starter/charity_data.csv\")\n",
    "application_df.head()"
   ]
  },
  {
   "cell_type": "code",
   "execution_count": 4,
   "metadata": {},
   "outputs": [
    {
     "name": "stderr",
     "output_type": "stream",
     "text": [
      "/var/folders/p2/n5j9j_d91zx3mbjdr94kyh140000gn/T/ipykernel_9407/2992931678.py:2: FutureWarning: In a future version of pandas all arguments of DataFrame.drop except for the argument 'labels' will be keyword-only.\n",
      "  application_df = application_df.drop([\"EIN\"],1)\n"
     ]
    }
   ],
   "source": [
    "# Drop the non-beneficial ID columns, 'EIN' and 'NAME'.\n",
    "application_df = application_df.drop([\"EIN\"],1)"
   ]
  },
  {
   "cell_type": "code",
   "execution_count": 5,
   "metadata": {},
   "outputs": [
    {
     "data": {
      "text/plain": [
       "NAME                      19568\n",
       "APPLICATION_TYPE             17\n",
       "AFFILIATION                   6\n",
       "CLASSIFICATION               71\n",
       "USE_CASE                      5\n",
       "ORGANIZATION                  4\n",
       "STATUS                        2\n",
       "INCOME_AMT                    9\n",
       "SPECIAL_CONSIDERATIONS        2\n",
       "ASK_AMT                    8747\n",
       "IS_SUCCESSFUL                 2\n",
       "dtype: int64"
      ]
     },
     "execution_count": 5,
     "metadata": {},
     "output_type": "execute_result"
    }
   ],
   "source": [
    "# Determine the number of unique values in each column.\n",
    "application_df.nunique()"
   ]
  },
  {
   "cell_type": "code",
   "execution_count": 6,
   "metadata": {},
   "outputs": [
    {
     "data": {
      "text/plain": [
       "T3     27037\n",
       "T4      1542\n",
       "T6      1216\n",
       "T5      1173\n",
       "T19     1065\n",
       "T8       737\n",
       "T7       725\n",
       "T10      528\n",
       "T9       156\n",
       "T13       66\n",
       "T12       27\n",
       "T2        16\n",
       "T25        3\n",
       "T14        3\n",
       "T29        2\n",
       "T15        2\n",
       "T17        1\n",
       "Name: APPLICATION_TYPE, dtype: int64"
      ]
     },
     "execution_count": 6,
     "metadata": {},
     "output_type": "execute_result"
    }
   ],
   "source": [
    "# Look at APPLICATION_TYPE value counts for binning\n",
    "app_counts = application_df['APPLICATION_TYPE'].value_counts()\n",
    "app_counts"
   ]
  },
  {
   "cell_type": "code",
   "execution_count": 7,
   "metadata": {},
   "outputs": [
    {
     "data": {
      "text/plain": [
       "T3       27037\n",
       "T4        1542\n",
       "T6        1216\n",
       "T5        1173\n",
       "T19       1065\n",
       "T8         737\n",
       "T7         725\n",
       "T10        528\n",
       "Other      276\n",
       "Name: APPLICATION_TYPE, dtype: int64"
      ]
     },
     "execution_count": 7,
     "metadata": {},
     "output_type": "execute_result"
    }
   ],
   "source": [
    "# Choose a cutoff value and create a list of application types to be replaced\n",
    "# use the variable name `application_types_to_replace`\n",
    "application_types_to_replace = list(app_counts[app_counts < 500].index)\n",
    "\n",
    "# Replace in dataframe\n",
    "for app in application_types_to_replace:\n",
    "    application_df['APPLICATION_TYPE'] = application_df['APPLICATION_TYPE'].replace(\n",
    "        app, \"Other\")\n",
    "\n",
    "# Check to make sure binning was successful\n",
    "application_df['APPLICATION_TYPE'].value_counts()"
   ]
  },
  {
   "cell_type": "code",
   "execution_count": 8,
   "metadata": {},
   "outputs": [
    {
     "data": {
      "text/plain": [
       "C1000    17326\n",
       "C2000     6074\n",
       "C1200     4837\n",
       "C3000     1918\n",
       "C2100     1883\n",
       "         ...  \n",
       "C4120        1\n",
       "C8210        1\n",
       "C2561        1\n",
       "C4500        1\n",
       "C2150        1\n",
       "Name: CLASSIFICATION, Length: 71, dtype: int64"
      ]
     },
     "execution_count": 8,
     "metadata": {},
     "output_type": "execute_result"
    }
   ],
   "source": [
    "# Look at CLASSIFICATION value counts for binning\n",
    "class_counts = application_df['CLASSIFICATION'].value_counts()\n",
    "class_counts"
   ]
  },
  {
   "cell_type": "code",
   "execution_count": 9,
   "metadata": {},
   "outputs": [
    {
     "data": {
      "text/plain": [
       "C1000    17326\n",
       "C2000     6074\n",
       "C1200     4837\n",
       "C3000     1918\n",
       "C2100     1883\n",
       "C7000      777\n",
       "C1700      287\n",
       "C4000      194\n",
       "C5000      116\n",
       "C1270      114\n",
       "C2700      104\n",
       "C2800       95\n",
       "C7100       75\n",
       "C1300       58\n",
       "C1280       50\n",
       "C1230       36\n",
       "C1400       34\n",
       "C7200       32\n",
       "C2300       32\n",
       "C1240       30\n",
       "C8000       20\n",
       "C7120       18\n",
       "C1500       16\n",
       "C1800       15\n",
       "C6000       15\n",
       "C1250       14\n",
       "C8200       11\n",
       "C1238       10\n",
       "C1278       10\n",
       "C1235        9\n",
       "C1237        9\n",
       "C7210        7\n",
       "C2400        6\n",
       "C1720        6\n",
       "C4100        6\n",
       "C1257        5\n",
       "C1600        5\n",
       "C1260        3\n",
       "C2710        3\n",
       "C0           3\n",
       "C3200        2\n",
       "C1234        2\n",
       "C1246        2\n",
       "C1267        2\n",
       "C1256        2\n",
       "Name: CLASSIFICATION, dtype: int64"
      ]
     },
     "execution_count": 9,
     "metadata": {},
     "output_type": "execute_result"
    }
   ],
   "source": [
    "# You may find it helpful to look at CLASSIFICATION value counts >1\n",
    "class_counts[class_counts > 1]"
   ]
  },
  {
   "cell_type": "code",
   "execution_count": 10,
   "metadata": {},
   "outputs": [
    {
     "data": {
      "text/plain": [
       "C1000    17326\n",
       "C2000     6074\n",
       "C1200     4837\n",
       "Other     2261\n",
       "C3000     1918\n",
       "C2100     1883\n",
       "Name: CLASSIFICATION, dtype: int64"
      ]
     },
     "execution_count": 10,
     "metadata": {},
     "output_type": "execute_result"
    }
   ],
   "source": [
    "# Choose a cutoff value and create a list of classifications to be replaced\n",
    "# use the variable name `classifications_to_replace`\n",
    "classifications_to_replace = list(class_counts[class_counts < 1000].index)\n",
    "\n",
    "# Replace in dataframe\n",
    "for cls in classifications_to_replace:\n",
    "    application_df['CLASSIFICATION'] = application_df['CLASSIFICATION'].replace(\n",
    "        cls, \"Other\")\n",
    "\n",
    "# Check to make sure binning was successful\n",
    "application_df['CLASSIFICATION'].value_counts()"
   ]
  },
  {
   "cell_type": "code",
   "execution_count": 11,
   "metadata": {},
   "outputs": [],
   "source": [
    "# Convert categorical data to numeric with `pd.get_dummies`\n",
    "application_with_dummies_df = pd.get_dummies(application_df)"
   ]
  },
  {
   "cell_type": "code",
   "execution_count": 12,
   "metadata": {},
   "outputs": [],
   "source": [
    "# Split our preprocessed data into our features and target arrays\n",
    "X = application_with_dummies_df.drop([\"IS_SUCCESSFUL\"], axis='columns').values\n",
    "y = application_with_dummies_df[\"IS_SUCCESSFUL\"].values\n",
    "\n",
    "# Split the preprocessed data into a training and testing dataset\n",
    "X_train, X_test, y_train, y_test = train_test_split(X, y, random_state=78)"
   ]
  },
  {
   "cell_type": "code",
   "execution_count": 13,
   "metadata": {},
   "outputs": [],
   "source": [
    "# Create a StandardScaler instances\n",
    "scaler = StandardScaler()\n",
    "\n",
    "# Fit the StandardScaler\n",
    "X_scaler = scaler.fit(X_train)\n",
    "\n",
    "# Scale the data\n",
    "X_train_scaled = X_scaler.transform(X_train)\n",
    "X_test_scaled = X_scaler.transform(X_test)"
   ]
  },
  {
   "cell_type": "markdown",
   "metadata": {},
   "source": [
    "## Compile, Train and Evaluate the Model"
   ]
  },
  {
   "cell_type": "code",
   "execution_count": 14,
   "metadata": {},
   "outputs": [
    {
     "name": "stdout",
     "output_type": "stream",
     "text": [
      "Model: \"sequential\"\n",
      "_________________________________________________________________\n",
      " Layer (type)                Output Shape              Param #   \n",
      "=================================================================\n",
      " dense (Dense)               (None, 80)                1568960   \n",
      "                                                                 \n",
      " dense_1 (Dense)             (None, 30)                2430      \n",
      "                                                                 \n",
      " dense_2 (Dense)             (None, 1)                 31        \n",
      "                                                                 \n",
      "=================================================================\n",
      "Total params: 1571421 (5.99 MB)\n",
      "Trainable params: 1571421 (5.99 MB)\n",
      "Non-trainable params: 0 (0.00 Byte)\n",
      "_________________________________________________________________\n"
     ]
    }
   ],
   "source": [
    "# Define the model - deep neural net, i.e., the number of input features and hidden nodes for each layer.\n",
    "number_input_features = len(X_train[0])\n",
    "hidden_nodes_layer1 =  80\n",
    "hidden_nodes_layer2 = 30\n",
    "\n",
    "nn = tf.keras.models.Sequential()\n",
    "\n",
    "# First hidden layer\n",
    "nn.add(\n",
    "    tf.keras.layers.Dense(units=hidden_nodes_layer1, input_dim=number_input_features, activation=\"relu\")\n",
    ")\n",
    "\n",
    "# Second hidden layer\n",
    "nn.add(tf.keras.layers.Dense(units=hidden_nodes_layer2, activation=\"relu\"))\n",
    "\n",
    "# Output layer\n",
    "nn.add(tf.keras.layers.Dense(units=1, activation=\"sigmoid\"))\n",
    "\n",
    "# Check the structure of the model\n",
    "nn.summary()"
   ]
  },
  {
   "cell_type": "code",
   "execution_count": 15,
   "metadata": {},
   "outputs": [],
   "source": [
    "# Compile the model\n",
    "nn.compile(loss=\"binary_crossentropy\", optimizer=\"adam\", metrics=[\"accuracy\"])"
   ]
  },
  {
   "cell_type": "code",
   "execution_count": 16,
   "metadata": {},
   "outputs": [
    {
     "name": "stdout",
     "output_type": "stream",
     "text": [
      "Epoch 1/100\n",
      "804/804 [==============================] - 28s 17ms/step - loss: 0.4913 - accuracy: 0.7613\n",
      "Epoch 2/100\n",
      "804/804 [==============================] - 17s 21ms/step - loss: 0.1257 - accuracy: 0.9541\n",
      "Epoch 3/100\n",
      "804/804 [==============================] - 10s 13ms/step - loss: 0.0977 - accuracy: 0.9606\n",
      "Epoch 4/100\n",
      "804/804 [==============================] - 10s 13ms/step - loss: 0.0933 - accuracy: 0.9612\n",
      "Epoch 5/100\n",
      "804/804 [==============================] - 12s 15ms/step - loss: 0.0921 - accuracy: 0.9620\n",
      "Epoch 6/100\n",
      "804/804 [==============================] - 13s 16ms/step - loss: 0.0914 - accuracy: 0.9626\n",
      "Epoch 7/100\n",
      "804/804 [==============================] - 13s 16ms/step - loss: 0.0906 - accuracy: 0.9616\n",
      "Epoch 8/100\n",
      "804/804 [==============================] - 12s 15ms/step - loss: 0.0899 - accuracy: 0.9637\n",
      "Epoch 9/100\n",
      "804/804 [==============================] - 9s 12ms/step - loss: 0.0894 - accuracy: 0.9626\n",
      "Epoch 10/100\n",
      "804/804 [==============================] - 9s 11ms/step - loss: 0.0886 - accuracy: 0.9643\n",
      "Epoch 11/100\n",
      "804/804 [==============================] - 10s 12ms/step - loss: 0.0883 - accuracy: 0.9636\n",
      "Epoch 12/100\n",
      "804/804 [==============================] - 11s 14ms/step - loss: 0.0879 - accuracy: 0.9643\n",
      "Epoch 13/100\n",
      "804/804 [==============================] - 10s 12ms/step - loss: 0.0874 - accuracy: 0.9642\n",
      "Epoch 14/100\n",
      "804/804 [==============================] - 9s 11ms/step - loss: 0.0870 - accuracy: 0.9644\n",
      "Epoch 15/100\n",
      "804/804 [==============================] - 10s 12ms/step - loss: 0.0862 - accuracy: 0.9642\n",
      "Epoch 16/100\n",
      "804/804 [==============================] - 9s 11ms/step - loss: 0.0862 - accuracy: 0.9648\n",
      "Epoch 17/100\n",
      "804/804 [==============================] - 9s 11ms/step - loss: 0.0853 - accuracy: 0.9650\n",
      "Epoch 18/100\n",
      "804/804 [==============================] - 10s 13ms/step - loss: 0.0851 - accuracy: 0.9654\n",
      "Epoch 19/100\n",
      "804/804 [==============================] - 10s 12ms/step - loss: 0.0847 - accuracy: 0.9651\n",
      "Epoch 20/100\n",
      "804/804 [==============================] - 11s 14ms/step - loss: 0.0844 - accuracy: 0.9663\n",
      "Epoch 21/100\n",
      "804/804 [==============================] - 10s 12ms/step - loss: 0.0838 - accuracy: 0.9661\n",
      "Epoch 22/100\n",
      "804/804 [==============================] - 10s 12ms/step - loss: 0.0834 - accuracy: 0.9663\n",
      "Epoch 23/100\n",
      "804/804 [==============================] - 10s 13ms/step - loss: 0.0831 - accuracy: 0.9658\n",
      "Epoch 24/100\n",
      "804/804 [==============================] - 11s 13ms/step - loss: 0.0828 - accuracy: 0.9663\n",
      "Epoch 25/100\n",
      "804/804 [==============================] - 11s 14ms/step - loss: 0.0821 - accuracy: 0.9669\n",
      "Epoch 26/100\n",
      "804/804 [==============================] - 11s 14ms/step - loss: 0.0822 - accuracy: 0.9666\n",
      "Epoch 27/100\n",
      "804/804 [==============================] - 13s 16ms/step - loss: 0.0817 - accuracy: 0.9663\n",
      "Epoch 28/100\n",
      "804/804 [==============================] - 14s 18ms/step - loss: 0.0819 - accuracy: 0.9671\n",
      "Epoch 29/100\n",
      "804/804 [==============================] - 12s 14ms/step - loss: 0.0810 - accuracy: 0.9672\n",
      "Epoch 30/100\n",
      "804/804 [==============================] - 10s 12ms/step - loss: 0.0807 - accuracy: 0.9675\n",
      "Epoch 31/100\n",
      "804/804 [==============================] - 11s 14ms/step - loss: 0.0806 - accuracy: 0.9676\n",
      "Epoch 32/100\n",
      "804/804 [==============================] - 14s 18ms/step - loss: 0.0806 - accuracy: 0.9677\n",
      "Epoch 33/100\n",
      "804/804 [==============================] - 10s 13ms/step - loss: 0.0801 - accuracy: 0.9668\n",
      "Epoch 34/100\n",
      "804/804 [==============================] - 11s 14ms/step - loss: 0.0798 - accuracy: 0.9676\n",
      "Epoch 35/100\n",
      "804/804 [==============================] - 10s 13ms/step - loss: 0.0795 - accuracy: 0.9678\n",
      "Epoch 36/100\n",
      "804/804 [==============================] - 9s 11ms/step - loss: 0.0796 - accuracy: 0.9678\n",
      "Epoch 37/100\n",
      "804/804 [==============================] - 9s 11ms/step - loss: 0.0792 - accuracy: 0.9679\n",
      "Epoch 38/100\n",
      "804/804 [==============================] - 10s 12ms/step - loss: 0.0793 - accuracy: 0.9679\n",
      "Epoch 39/100\n",
      "804/804 [==============================] - 9s 12ms/step - loss: 0.0789 - accuracy: 0.9681\n",
      "Epoch 40/100\n",
      "804/804 [==============================] - 9s 12ms/step - loss: 0.0787 - accuracy: 0.9679\n",
      "Epoch 41/100\n",
      "804/804 [==============================] - 10s 12ms/step - loss: 0.0788 - accuracy: 0.9686\n",
      "Epoch 42/100\n",
      "804/804 [==============================] - 9s 11ms/step - loss: 0.0783 - accuracy: 0.9683\n",
      "Epoch 43/100\n",
      "804/804 [==============================] - 9s 11ms/step - loss: 0.0783 - accuracy: 0.9682\n",
      "Epoch 44/100\n",
      "804/804 [==============================] - 9s 11ms/step - loss: 0.0782 - accuracy: 0.9681\n",
      "Epoch 45/100\n",
      "804/804 [==============================] - 9s 11ms/step - loss: 0.0782 - accuracy: 0.9686\n",
      "Epoch 46/100\n",
      "804/804 [==============================] - 9s 11ms/step - loss: 0.0783 - accuracy: 0.9689\n",
      "Epoch 47/100\n",
      "804/804 [==============================] - 9s 12ms/step - loss: 0.0780 - accuracy: 0.9684\n",
      "Epoch 48/100\n",
      "804/804 [==============================] - 9s 12ms/step - loss: 0.0780 - accuracy: 0.9684\n",
      "Epoch 49/100\n",
      "804/804 [==============================] - 9s 12ms/step - loss: 0.0775 - accuracy: 0.9685\n",
      "Epoch 50/100\n",
      "804/804 [==============================] - 9s 11ms/step - loss: 0.0775 - accuracy: 0.9687\n",
      "Epoch 51/100\n",
      "804/804 [==============================] - 9s 11ms/step - loss: 0.0777 - accuracy: 0.9682\n",
      "Epoch 52/100\n",
      "804/804 [==============================] - 9s 12ms/step - loss: 0.0773 - accuracy: 0.9685\n",
      "Epoch 53/100\n",
      "804/804 [==============================] - 9s 12ms/step - loss: 0.0774 - accuracy: 0.9685\n",
      "Epoch 54/100\n",
      "804/804 [==============================] - 9s 11ms/step - loss: 0.0771 - accuracy: 0.9687\n",
      "Epoch 55/100\n",
      "804/804 [==============================] - 9s 11ms/step - loss: 0.0771 - accuracy: 0.9687\n",
      "Epoch 56/100\n",
      "804/804 [==============================] - 9s 11ms/step - loss: 0.0771 - accuracy: 0.9688\n",
      "Epoch 57/100\n",
      "804/804 [==============================] - 9s 11ms/step - loss: 0.0770 - accuracy: 0.9688\n",
      "Epoch 58/100\n",
      "804/804 [==============================] - 9s 11ms/step - loss: 0.0768 - accuracy: 0.9691\n",
      "Epoch 59/100\n",
      "804/804 [==============================] - 11s 13ms/step - loss: 0.0767 - accuracy: 0.9688\n",
      "Epoch 60/100\n",
      "804/804 [==============================] - 10s 13ms/step - loss: 0.0771 - accuracy: 0.9688\n",
      "Epoch 61/100\n",
      "804/804 [==============================] - 10s 13ms/step - loss: 0.0768 - accuracy: 0.9687\n",
      "Epoch 62/100\n",
      "804/804 [==============================] - 10s 12ms/step - loss: 0.0767 - accuracy: 0.9688\n",
      "Epoch 63/100\n",
      "804/804 [==============================] - 10s 12ms/step - loss: 0.0764 - accuracy: 0.9687\n",
      "Epoch 64/100\n",
      "804/804 [==============================] - 10s 12ms/step - loss: 0.0765 - accuracy: 0.9689\n",
      "Epoch 65/100\n",
      "804/804 [==============================] - 9s 11ms/step - loss: 0.0766 - accuracy: 0.9691\n",
      "Epoch 66/100\n",
      "804/804 [==============================] - 9s 12ms/step - loss: 0.0765 - accuracy: 0.9691\n",
      "Epoch 67/100\n",
      "804/804 [==============================] - 11s 13ms/step - loss: 0.0764 - accuracy: 0.9689\n",
      "Epoch 68/100\n",
      "804/804 [==============================] - 10s 12ms/step - loss: 0.0762 - accuracy: 0.9689\n",
      "Epoch 69/100\n",
      "804/804 [==============================] - 9s 11ms/step - loss: 0.0766 - accuracy: 0.9686\n",
      "Epoch 70/100\n",
      "804/804 [==============================] - 9s 11ms/step - loss: 0.0764 - accuracy: 0.9692\n",
      "Epoch 71/100\n",
      "804/804 [==============================] - 10s 12ms/step - loss: 0.0761 - accuracy: 0.9690\n",
      "Epoch 72/100\n",
      "804/804 [==============================] - 9s 12ms/step - loss: 0.0759 - accuracy: 0.9690\n",
      "Epoch 73/100\n",
      "804/804 [==============================] - 9s 11ms/step - loss: 0.0763 - accuracy: 0.9690\n",
      "Epoch 74/100\n",
      "804/804 [==============================] - 9s 11ms/step - loss: 0.0759 - accuracy: 0.9696\n",
      "Epoch 75/100\n",
      "804/804 [==============================] - 9s 12ms/step - loss: 0.0759 - accuracy: 0.9692\n",
      "Epoch 76/100\n",
      "804/804 [==============================] - 11s 14ms/step - loss: 0.0759 - accuracy: 0.9692\n",
      "Epoch 77/100\n",
      "804/804 [==============================] - 10s 12ms/step - loss: 0.0759 - accuracy: 0.9695\n",
      "Epoch 78/100\n",
      "804/804 [==============================] - 9s 11ms/step - loss: 0.0759 - accuracy: 0.9692\n",
      "Epoch 79/100\n",
      "804/804 [==============================] - 9s 11ms/step - loss: 0.0762 - accuracy: 0.9689\n",
      "Epoch 80/100\n",
      "804/804 [==============================] - 9s 11ms/step - loss: 0.0755 - accuracy: 0.9691\n",
      "Epoch 81/100\n",
      "804/804 [==============================] - 10s 12ms/step - loss: 0.0757 - accuracy: 0.9692\n",
      "Epoch 82/100\n",
      "804/804 [==============================] - 10s 12ms/step - loss: 0.0757 - accuracy: 0.9687\n",
      "Epoch 83/100\n",
      "804/804 [==============================] - 9s 12ms/step - loss: 0.0755 - accuracy: 0.9692\n",
      "Epoch 84/100\n",
      "804/804 [==============================] - 10s 13ms/step - loss: 0.0758 - accuracy: 0.9691\n",
      "Epoch 85/100\n",
      "804/804 [==============================] - 10s 13ms/step - loss: 0.0756 - accuracy: 0.9692\n",
      "Epoch 86/100\n",
      "804/804 [==============================] - 9s 12ms/step - loss: 0.0757 - accuracy: 0.9691\n",
      "Epoch 87/100\n",
      "804/804 [==============================] - 10s 12ms/step - loss: 0.0755 - accuracy: 0.9691\n",
      "Epoch 88/100\n",
      "804/804 [==============================] - 9s 11ms/step - loss: 0.0754 - accuracy: 0.9696\n",
      "Epoch 89/100\n",
      "804/804 [==============================] - 10s 13ms/step - loss: 0.0755 - accuracy: 0.9695\n",
      "Epoch 90/100\n",
      "804/804 [==============================] - 9s 11ms/step - loss: 0.0757 - accuracy: 0.9693\n",
      "Epoch 91/100\n",
      "804/804 [==============================] - 9s 11ms/step - loss: 0.0755 - accuracy: 0.9695\n",
      "Epoch 92/100\n",
      "804/804 [==============================] - 10s 12ms/step - loss: 0.0756 - accuracy: 0.9690\n",
      "Epoch 93/100\n",
      "804/804 [==============================] - 10s 12ms/step - loss: 0.0768 - accuracy: 0.9692\n",
      "Epoch 94/100\n",
      "804/804 [==============================] - 10s 13ms/step - loss: 0.0753 - accuracy: 0.9689\n",
      "Epoch 95/100\n",
      "804/804 [==============================] - 10s 12ms/step - loss: 0.0750 - accuracy: 0.9693\n",
      "Epoch 96/100\n",
      "804/804 [==============================] - 9s 11ms/step - loss: 0.0751 - accuracy: 0.9694\n",
      "Epoch 97/100\n",
      "804/804 [==============================] - 9s 12ms/step - loss: 0.0750 - accuracy: 0.9693\n",
      "Epoch 98/100\n",
      "804/804 [==============================] - 10s 12ms/step - loss: 0.0749 - accuracy: 0.9698\n",
      "Epoch 99/100\n",
      "804/804 [==============================] - 9s 11ms/step - loss: 0.0754 - accuracy: 0.9691\n",
      "Epoch 100/100\n",
      "804/804 [==============================] - 10s 12ms/step - loss: 0.0750 - accuracy: 0.9693\n"
     ]
    }
   ],
   "source": [
    "# Train the model\n",
    "fit_model = nn.fit(X_train_scaled, y_train, epochs=100)"
   ]
  },
  {
   "cell_type": "code",
   "execution_count": 17,
   "metadata": {},
   "outputs": [
    {
     "name": "stdout",
     "output_type": "stream",
     "text": [
      "268/268 - 2s - loss: 0.7325 - accuracy: 0.6604 - 2s/epoch - 8ms/step\n",
      "Loss: 0.7325111627578735, Accuracy: 0.6604081392288208\n"
     ]
    }
   ],
   "source": [
    "# Evaluate the model using the test data\n",
    "model_loss, model_accuracy = nn.evaluate(X_test_scaled,y_test,verbose=2)\n",
    "print(f\"Loss: {model_loss}, Accuracy: {model_accuracy}\")"
   ]
  },
  {
   "cell_type": "code",
   "execution_count": 18,
   "metadata": {},
   "outputs": [
    {
     "name": "stderr",
     "output_type": "stream",
     "text": [
      "/Users/sukhikaur/anaconda3/envs/dev/lib/python3.10/site-packages/keras/src/engine/training.py:3103: UserWarning: You are saving your model as an HDF5 file via `model.save()`. This file format is considered legacy. We recommend using instead the native Keras format, e.g. `model.save('my_model.keras')`.\n",
      "  saving_api.save_model(\n"
     ]
    }
   ],
   "source": [
    "# Export our model to HDF5 file\n",
    "nn.save(\"AlphabetSoupCharity.h5\")"
   ]
  }
 ],
 "metadata": {
  "kernelspec": {
   "display_name": "Python 3",
   "language": "python",
   "name": "python3"
  },
  "language_info": {
   "codemirror_mode": {
    "name": "ipython",
    "version": 3
   },
   "file_extension": ".py",
   "mimetype": "text/x-python",
   "name": "python",
   "nbconvert_exporter": "python",
   "pygments_lexer": "ipython3",
   "version": "3.10.12"
  },
  "vscode": {
   "interpreter": {
    "hash": "31f2aee4e71d21fbe5cf8b01ff0e069b9275f58929596ceb00d14d90e3e16cd6"
   }
  }
 },
 "nbformat": 4,
 "nbformat_minor": 4
}
